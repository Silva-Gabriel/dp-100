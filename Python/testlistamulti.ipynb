{
 "cells": [
  {
   "cell_type": "code",
   "execution_count": 1,
   "metadata": {},
   "outputs": [],
   "source": [
    "# Cria cenário\n",
    "labirinto = [\n",
    "    ['x', 'x', 'x', 'x', 'x'],\n",
    "    ['x', ' ', ' ', ' ', 'x'],\n",
    "    ['x', 'x', 'x', ' ', 'x'],\n",
    "    ['x', 't', 'x', ' ', 'x'],\n",
    "    ['x', ' ', ' ', ' ', 'x'],\n",
    "    ['x', 'x', 'x', 'x', 'x']\n",
    "    ]"
   ]
  },
  {
   "cell_type": "code",
   "execution_count": 2,
   "metadata": {},
   "outputs": [
    {
     "name": "stdout",
     "output_type": "stream",
     "text": [
      "['x', 'x', 'x', 'x', 'x']\n",
      "\n",
      "['x', ' ', ' ', ' ', 'x']\n",
      "\n",
      "['x', 'x', 'x', ' ', 'x']\n",
      "\n",
      "['x', 'o/', 'x', ' ', 'x']\n",
      "\n",
      "['x', ' ', ' ', ' ', 'x']\n",
      "\n",
      "['x', 'x', 'x', 'x', 'x']\n",
      "\n"
     ]
    }
   ],
   "source": [
    "# Itera sobre a lista para encontrar o tesouro e adiciona um bonequinho vibrando a vitória\n",
    "personagem = 'o/'\n",
    "for item in range(len(labirinto)):\n",
    "    for item2 in range(len(labirinto)-1):\n",
    "        if labirinto[item][item2] == 't':\n",
    "            len(labirinto[item][item2])\n",
    "            labirinto[item][item2] = personagem\n",
    "            for it in labirinto:\n",
    "                print(f'{it}\\n')\n",
    "\n",
    "        "
   ]
  }
 ],
 "metadata": {
  "interpreter": {
   "hash": "7852ce70ecb3b194317af621db3f38a7e21c4dec5915f7b01fa3c8c10c3358a7"
  },
  "kernelspec": {
   "display_name": "Python 3.10.1 64-bit",
   "language": "python",
   "name": "python3"
  },
  "language_info": {
   "codemirror_mode": {
    "name": "ipython",
    "version": 3
   },
   "file_extension": ".py",
   "mimetype": "text/x-python",
   "name": "python",
   "nbconvert_exporter": "python",
   "pygments_lexer": "ipython3",
   "version": "3.10.1"
  },
  "orig_nbformat": 4
 },
 "nbformat": 4,
 "nbformat_minor": 2
}
