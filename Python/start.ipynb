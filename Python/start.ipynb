{
 "cells": [
  {
   "cell_type": "code",
   "execution_count": 5,
   "metadata": {},
   "outputs": [],
   "source": [
    "testDictionary = {\n",
    "    'Nome':'Naruto uzumaki',\n",
    "    'Cidade':'Konoha',\n",
    "    'Sensei':'Kakashi',\n",
    "    'Mentor' : 'Jiraya'\n",
    "    }\n",
    "\n",
    "keys = []\n",
    "values = []\n",
    "for td in testDictionary:\n",
    "    keys.append(td)\n",
    "for td in testDictionary.values():\n",
    "    values.append(td)\n"
   ]
  },
  {
   "cell_type": "code",
   "execution_count": 6,
   "metadata": {},
   "outputs": [
    {
     "name": "stdout",
     "output_type": "stream",
     "text": [
      "keys: ['Nome', 'Cidade', 'Sensei', 'Mentor']\n",
      "values: ['Naruto uzumaki', 'Konoha', 'Kakashi', 'Jiraya']\n"
     ]
    }
   ],
   "source": [
    "print(f'keys: {keys}')\n",
    "print(f'values: {values}')"
   ]
  },
  {
   "cell_type": "code",
   "execution_count": 7,
   "metadata": {},
   "outputs": [
    {
     "data": {
      "text/plain": [
       "'Naruto uzumaki'"
      ]
     },
     "execution_count": 7,
     "metadata": {},
     "output_type": "execute_result"
    }
   ],
   "source": [
    "# Se quisermos acessar pela chave\n",
    "testDictionary['Nome']"
   ]
  },
  {
   "cell_type": "code",
   "execution_count": 8,
   "metadata": {},
   "outputs": [
    {
     "data": {
      "text/plain": [
       "{'Nome': 'sasuke uzumaki',\n",
       " 'Cidade': 'Konoha',\n",
       " 'Sensei': 'Kakashi',\n",
       " 'Mentor': 'Jiraya'}"
      ]
     },
     "execution_count": 8,
     "metadata": {},
     "output_type": "execute_result"
    }
   ],
   "source": [
    "# Atualizando um valor\n",
    "testDictionary['Nome'] = 'sasuke uzumaki'\n",
    "testDictionary"
   ]
  },
  {
   "cell_type": "code",
   "execution_count": 9,
   "metadata": {},
   "outputs": [],
   "source": [
    "# Deletando valores\n",
    "del testDictionary['Mentor']"
   ]
  },
  {
   "cell_type": "code",
   "execution_count": 10,
   "metadata": {},
   "outputs": [
    {
     "data": {
      "text/plain": [
       "{'Nome': 'sasuke uzumaki', 'Cidade': 'Konoha', 'Sensei': 'Kakashi'}"
      ]
     },
     "execution_count": 10,
     "metadata": {},
     "output_type": "execute_result"
    }
   ],
   "source": [
    "testDictionary"
   ]
  },
  {
   "cell_type": "code",
   "execution_count": 11,
   "metadata": {},
   "outputs": [
    {
     "data": {
      "text/plain": [
       "3"
      ]
     },
     "execution_count": 11,
     "metadata": {},
     "output_type": "execute_result"
    }
   ],
   "source": [
    "len(testDictionary)"
   ]
  }
 ],
 "metadata": {
  "interpreter": {
   "hash": "7852ce70ecb3b194317af621db3f38a7e21c4dec5915f7b01fa3c8c10c3358a7"
  },
  "kernelspec": {
   "display_name": "Python 3.10.1 64-bit",
   "language": "python",
   "name": "python3"
  },
  "language_info": {
   "codemirror_mode": {
    "name": "ipython",
    "version": 3
   },
   "file_extension": ".py",
   "mimetype": "text/x-python",
   "name": "python",
   "nbconvert_exporter": "python",
   "pygments_lexer": "ipython3",
   "version": "3.10.1"
  },
  "orig_nbformat": 4
 },
 "nbformat": 4,
 "nbformat_minor": 2
}
