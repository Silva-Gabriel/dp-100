{
 "cells": [
  {
   "cell_type": "code",
   "execution_count": 4,
   "metadata": {},
   "outputs": [
    {
     "data": {
      "text/html": [
       "<div>\n",
       "<style scoped>\n",
       "    .dataframe tbody tr th:only-of-type {\n",
       "        vertical-align: middle;\n",
       "    }\n",
       "\n",
       "    .dataframe tbody tr th {\n",
       "        vertical-align: top;\n",
       "    }\n",
       "\n",
       "    .dataframe thead th {\n",
       "        text-align: right;\n",
       "    }\n",
       "</style>\n",
       "<table border=\"1\" class=\"dataframe\">\n",
       "  <thead>\n",
       "    <tr style=\"text-align: right;\">\n",
       "      <th></th>\n",
       "      <th>boot_size</th>\n",
       "      <th>harness_size</th>\n",
       "      <th>sex</th>\n",
       "      <th>age_years</th>\n",
       "    </tr>\n",
       "  </thead>\n",
       "  <tbody>\n",
       "    <tr>\n",
       "      <th>0</th>\n",
       "      <td>39</td>\n",
       "      <td>58</td>\n",
       "      <td>male</td>\n",
       "      <td>12.0</td>\n",
       "    </tr>\n",
       "    <tr>\n",
       "      <th>1</th>\n",
       "      <td>38</td>\n",
       "      <td>58</td>\n",
       "      <td>male</td>\n",
       "      <td>9.6</td>\n",
       "    </tr>\n",
       "    <tr>\n",
       "      <th>2</th>\n",
       "      <td>37</td>\n",
       "      <td>52</td>\n",
       "      <td>female</td>\n",
       "      <td>8.6</td>\n",
       "    </tr>\n",
       "    <tr>\n",
       "      <th>3</th>\n",
       "      <td>39</td>\n",
       "      <td>58</td>\n",
       "      <td>male</td>\n",
       "      <td>10.2</td>\n",
       "    </tr>\n",
       "    <tr>\n",
       "      <th>4</th>\n",
       "      <td>38</td>\n",
       "      <td>57</td>\n",
       "      <td>male</td>\n",
       "      <td>7.8</td>\n",
       "    </tr>\n",
       "  </tbody>\n",
       "</table>\n",
       "</div>"
      ],
      "text/plain": [
       "   boot_size  harness_size     sex  age_years\n",
       "0         39            58    male       12.0\n",
       "1         38            58    male        9.6\n",
       "2         37            52  female        8.6\n",
       "3         39            58    male       10.2\n",
       "4         38            57    male        7.8"
      ]
     },
     "execution_count": 4,
     "metadata": {},
     "output_type": "execute_result"
    }
   ],
   "source": [
    "import pandas\n",
    "# Carregando os dados\n",
    "data = pandas.read_csv('https://raw.githubusercontent.com/MicrosoftDocs/mslearn-introduction-to-machine-learning/main/Data/doggy-boot-harness.csv')\n",
    "\n",
    "data.head()\n"
   ]
  },
  {
   "cell_type": "code",
   "execution_count": 5,
   "metadata": {},
   "outputs": [
    {
     "name": "stdout",
     "output_type": "stream",
     "text": [
      "Modelo treinado!\n"
     ]
    }
   ],
   "source": [
    "import statsmodels.formula.api as smf\n",
    "\n",
    "model = smf.ols(formula = \"boot_size ~ harness_size\", data = data).fit()\n",
    "\n",
    "print(\"Modelo treinado!\")"
   ]
  },
  {
   "cell_type": "code",
   "execution_count": 6,
   "metadata": {},
   "outputs": [
    {
     "name": "stdout",
     "output_type": "stream",
     "text": [
      "Modelo salvo em disco!\n"
     ]
    }
   ],
   "source": [
    "import joblib\n",
    "\n",
    "model_filename = './avalanche_dog_boot_model.pkl'\n",
    "joblib.dump(model, model_filename)\n",
    "\n",
    "print(\"Modelo salvo em disco!\")"
   ]
  },
  {
   "cell_type": "code",
   "execution_count": 8,
   "metadata": {},
   "outputs": [
    {
     "name": "stdout",
     "output_type": "stream",
     "text": [
      "Modelo carregado com os seguintes parâmetros:\n",
      "Intercept       5.719110\n",
      "harness_size    0.585925\n",
      "dtype: float64\n"
     ]
    }
   ],
   "source": [
    "model_loaded = joblib.load(model_filename)\n",
    "\n",
    "print(\"Modelo carregado com os seguintes parâmetros:\")\n",
    "print(model_loaded.params)"
   ]
  },
  {
   "cell_type": "code",
   "execution_count": 13,
   "metadata": {},
   "outputs": [
    {
     "name": "stdout",
     "output_type": "stream",
     "text": [
      "Carregando o modelo com os seguintes parâmetros:\n",
      "Intercept       5.719110\n",
      "harness_size    0.585925\n",
      "dtype: float64\n",
      "Tamanho da bota prevista para o cachorro: 32.085753565904774\n"
     ]
    }
   ],
   "source": [
    "# Criando uma função para prever o tamanho da bota com parâmetro do tamanho do cinto\n",
    "def load_model_and_predict(harness_size):\n",
    "    \n",
    "    # Carregando modelo\n",
    "    loaded_model = joblib.load(model_filename)\n",
    "\n",
    "    print(\"Carregando o modelo com os seguintes parâmetros:\")\n",
    "    print(loaded_model.params)\n",
    "\n",
    "    # Preparando os dados para o modelo\n",
    "    inputs = {\"harness_size\":[harness_size]} \n",
    "\n",
    "    # Usando o modelo para fazer a predição\n",
    "    predicted_boot_size = loaded_model.predict(inputs)[0]\n",
    "\n",
    "    return predicted_boot_size\n",
    "\n",
    "# Praticando o uso do modelo\n",
    "predicted_boot_size = load_model_and_predict(45)\n",
    "\n",
    "print(\"Tamanho da bota prevista para o cachorro:\", predicted_boot_size)"
   ]
  },
  {
   "cell_type": "code",
   "execution_count": 24,
   "metadata": {},
   "outputs": [
    {
     "name": "stdout",
     "output_type": "stream",
     "text": [
      "Carregando o modelo com os seguintes parâmetros:\n",
      "Intercept       5.719110\n",
      "harness_size    0.585925\n",
      "dtype: float64\n"
     ]
    },
    {
     "data": {
      "text/plain": [
       "'As botas que você selecionou podem ser MUITO GRANDES para seu cachorro. Recomendamos um tamanho de botas para cães de 38.'"
      ]
     },
     "execution_count": 24,
     "metadata": {},
     "output_type": "execute_result"
    }
   ],
   "source": [
    "# Criando uma função para retornar uma mensagem ao cliente\n",
    "def check_size_of_boots(selected_harness_size, selected_boot_size):\n",
    "\n",
    "    # Estime o tamanho da bota do cachorro do cliente\n",
    "    estimated_boot_size = load_model_and_predict(selected_harness_size)\n",
    "\n",
    "    # Arredonde para o número inteiro mais próximo porque não vendemos tamanhos parciais\n",
    "    estimated_boot_size = int(round(estimated_boot_size))\n",
    "\n",
    "    # Checar se o tamanho da bota é apropriado\n",
    "    if selected_boot_size == estimated_boot_size:\n",
    "        # A bota selecionada está com probabilidade OK\n",
    "        return \"Ótima escolha! Achamos que essas botas se encaixam bem no seu cão de avalanche.\"\n",
    "\n",
    "    if selected_boot_size < estimated_boot_size:\n",
    "        # As botas selecionadas podem ser muito pequenas\n",
    "        return \"As botas que você selecionou podem ser MUITO PEQUENAS para seu cachorro. \"\\\n",
    "               f\"Recomendamos um tamanho de botas para cães de {estimated_boot_size}.\"\n",
    "\n",
    "    if selected_boot_size > estimated_boot_size:\n",
    "        # As botas selecionadas podem ser muito grandes\n",
    "        return \"As botas que você selecionou podem ser MUITO GRANDES para seu cachorro. \"\\\n",
    "               f\"Recomendamos um tamanho de botas para cães de {estimated_boot_size}.\"\n",
    "    \n",
    "\n",
    "\n",
    "check_size_of_boots(55,39)"
   ]
  }
 ],
 "metadata": {
  "interpreter": {
   "hash": "7852ce70ecb3b194317af621db3f38a7e21c4dec5915f7b01fa3c8c10c3358a7"
  },
  "kernelspec": {
   "display_name": "Python 3.10.1 64-bit",
   "language": "python",
   "name": "python3"
  },
  "language_info": {
   "codemirror_mode": {
    "name": "ipython",
    "version": 3
   },
   "file_extension": ".py",
   "mimetype": "text/x-python",
   "name": "python",
   "nbconvert_exporter": "python",
   "pygments_lexer": "ipython3",
   "version": "3.10.1"
  },
  "orig_nbformat": 4
 },
 "nbformat": 4,
 "nbformat_minor": 2
}
